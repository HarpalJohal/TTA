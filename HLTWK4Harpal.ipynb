{
 "cells": [
  {
   "cell_type": "code",
   "execution_count": null,
   "source": [],
   "outputs": [],
   "metadata": {}
  },
  {
   "cell_type": "code",
   "execution_count": null,
   "source": [
    "#-------------------------------------------------------------------------------\r\n",
    "# Name:         HLT Week 4\r\n",
    "# Author:       harpal johal\r\n",
    "# Created:      28/07/2021\r\n",
    "#\r\n",
    "# 1.How many rows and columns are there in your file?\r\n",
    "# 2.Print row 3-8 ( using iloc/loc).\r\n",
    "# 3.Find the mean number of all-inclusive hotels across all destinations.\r\n",
    "# 4.Find the lowest scoring destination.\r\n",
    "# 5.Find the highest scoring destination.\r\n",
    "# 6.Find all the destinations where there are more than 9 all-inclusive hotels. \r\n",
    "# 7.Filter the data by score above 8.  \r\n",
    "# 8.Filter the data score below 2 ( I need to know if these destinations should be removed or there is a problem)\r\n",
    "#   \r\n",
    "# Extension                                                                                                                   \r\n",
    "# 1.Is there a correlation between number of all-inclusive hotels and score?\r\n",
    "# 2.Create a data visualisation diagram to show destination and highest scores?\r\n",
    "# \r\n",
    "# -------------------------------------------------------------------------------\r\n"
   ],
   "outputs": [],
   "metadata": {}
  },
  {
   "cell_type": "code",
   "execution_count": 38,
   "source": [
    "#Task 1\r\n",
    "import pandas as pd\r\n",
    "data = pd.read_csv(\"Destinations.csv\")\r\n",
    "data.shape\r\n"
   ],
   "outputs": [
    {
     "output_type": "execute_result",
     "data": {
      "text/plain": [
       "(15, 5)"
      ]
     },
     "metadata": {},
     "execution_count": 38
    }
   ],
   "metadata": {}
  },
  {
   "cell_type": "code",
   "execution_count": 4,
   "source": [
    "#Task 2\r\n",
    "print(data.iloc[3:9])"
   ],
   "outputs": [
    {
     "output_type": "stream",
     "name": "stdout",
     "text": [
      "  Destination  Feedback Score  Average Hotel Rating  No. of All Incl Hotels  \\\n",
      "3      France             8.9                     4                     176   \n",
      "4       Spain             8.4                     3                     206   \n",
      "5       Italy             7.2                     4                     154   \n",
      "6       Japan             8.9                     5                     168   \n",
      "7     Germany             7.2                     3                     134   \n",
      "8       India             7.6                     3                     268   \n",
      "\n",
      "  Most Visited City  \n",
      "3             Paris  \n",
      "4         Barcelona  \n",
      "5          Florence  \n",
      "6             Tokyo  \n",
      "7            Berlin  \n",
      "8              Agra  \n"
     ]
    }
   ],
   "metadata": {}
  },
  {
   "cell_type": "code",
   "execution_count": 7,
   "source": [
    "# 3.Find the mean number of all-inclusive hotels across all destinations.\r\n",
    "data[\"No. of All Incl Hotels\"].mean()"
   ],
   "outputs": [
    {
     "output_type": "execute_result",
     "data": {
      "text/plain": [
       "106.46666666666667"
      ]
     },
     "metadata": {},
     "execution_count": 7
    }
   ],
   "metadata": {}
  },
  {
   "cell_type": "code",
   "execution_count": 8,
   "source": [
    "# 4.Find the lowest scoring destination.\r\n",
    "data[\"Feedback Score\"].min()"
   ],
   "outputs": [
    {
     "output_type": "execute_result",
     "data": {
      "text/plain": [
       "7.1"
      ]
     },
     "metadata": {},
     "execution_count": 8
    }
   ],
   "metadata": {}
  },
  {
   "cell_type": "code",
   "execution_count": 33,
   "source": [
    "# 5.Find the highest scoring destination.\r\n",
    "myfilter = data[\"Feedback Score\"]==data[\"Feedback Score\"].max()\r\n",
    "data[myfilter]"
   ],
   "outputs": [
    {
     "output_type": "execute_result",
     "data": {
      "text/plain": [
       "  Destination  Feedback Score  Average Hotel Rating  No. of All Incl Hotels  \\\n",
       "3      France             8.9                     4                      17   \n",
       "6       Japan             8.9                     5                      10   \n",
       "\n",
       "  Most Visited City  \n",
       "3             Paris  \n",
       "6             Tokyo  "
      ],
      "text/html": [
       "<div>\n",
       "<style scoped>\n",
       "    .dataframe tbody tr th:only-of-type {\n",
       "        vertical-align: middle;\n",
       "    }\n",
       "\n",
       "    .dataframe tbody tr th {\n",
       "        vertical-align: top;\n",
       "    }\n",
       "\n",
       "    .dataframe thead th {\n",
       "        text-align: right;\n",
       "    }\n",
       "</style>\n",
       "<table border=\"1\" class=\"dataframe\">\n",
       "  <thead>\n",
       "    <tr style=\"text-align: right;\">\n",
       "      <th></th>\n",
       "      <th>Destination</th>\n",
       "      <th>Feedback Score</th>\n",
       "      <th>Average Hotel Rating</th>\n",
       "      <th>No. of All Incl Hotels</th>\n",
       "      <th>Most Visited City</th>\n",
       "    </tr>\n",
       "  </thead>\n",
       "  <tbody>\n",
       "    <tr>\n",
       "      <th>3</th>\n",
       "      <td>France</td>\n",
       "      <td>8.9</td>\n",
       "      <td>4</td>\n",
       "      <td>17</td>\n",
       "      <td>Paris</td>\n",
       "    </tr>\n",
       "    <tr>\n",
       "      <th>6</th>\n",
       "      <td>Japan</td>\n",
       "      <td>8.9</td>\n",
       "      <td>5</td>\n",
       "      <td>10</td>\n",
       "      <td>Tokyo</td>\n",
       "    </tr>\n",
       "  </tbody>\n",
       "</table>\n",
       "</div>"
      ]
     },
     "metadata": {},
     "execution_count": 33
    }
   ],
   "metadata": {}
  },
  {
   "cell_type": "code",
   "execution_count": 28,
   "source": [
    "# 6.Find all the destinations where there are more than 9 all-inclusive hotels.\r\n",
    "myfilter = data[\"No. of All Incl Hotels\"] > 9\r\n",
    "data[myfilter]"
   ],
   "outputs": [
    {
     "output_type": "execute_result",
     "data": {
      "text/plain": [
       "   Destination  Feedback Score  Average Hotel Rating  No. of All Incl Hotels  \\\n",
       "3       France             8.9                     4                      17   \n",
       "4        Spain             8.4                     3                      20   \n",
       "6        Japan             8.9                     5                      10   \n",
       "7      Germany             7.2                     3                      13   \n",
       "8        India             7.6                     3                      26   \n",
       "11   Australia             8.1                     4                      16   \n",
       "12     Iceland             8.0                     4                      12   \n",
       "14      Brazil             7.9                     4                      11   \n",
       "\n",
       "   Most Visited City  \n",
       "3              Paris  \n",
       "4          Barcelona  \n",
       "6              Tokyo  \n",
       "7             Berlin  \n",
       "8               Agra  \n",
       "11            Sydney  \n",
       "12          Reyjavik  \n",
       "14    Rio De Janeiro  "
      ],
      "text/html": [
       "<div>\n",
       "<style scoped>\n",
       "    .dataframe tbody tr th:only-of-type {\n",
       "        vertical-align: middle;\n",
       "    }\n",
       "\n",
       "    .dataframe tbody tr th {\n",
       "        vertical-align: top;\n",
       "    }\n",
       "\n",
       "    .dataframe thead th {\n",
       "        text-align: right;\n",
       "    }\n",
       "</style>\n",
       "<table border=\"1\" class=\"dataframe\">\n",
       "  <thead>\n",
       "    <tr style=\"text-align: right;\">\n",
       "      <th></th>\n",
       "      <th>Destination</th>\n",
       "      <th>Feedback Score</th>\n",
       "      <th>Average Hotel Rating</th>\n",
       "      <th>No. of All Incl Hotels</th>\n",
       "      <th>Most Visited City</th>\n",
       "    </tr>\n",
       "  </thead>\n",
       "  <tbody>\n",
       "    <tr>\n",
       "      <th>3</th>\n",
       "      <td>France</td>\n",
       "      <td>8.9</td>\n",
       "      <td>4</td>\n",
       "      <td>17</td>\n",
       "      <td>Paris</td>\n",
       "    </tr>\n",
       "    <tr>\n",
       "      <th>4</th>\n",
       "      <td>Spain</td>\n",
       "      <td>8.4</td>\n",
       "      <td>3</td>\n",
       "      <td>20</td>\n",
       "      <td>Barcelona</td>\n",
       "    </tr>\n",
       "    <tr>\n",
       "      <th>6</th>\n",
       "      <td>Japan</td>\n",
       "      <td>8.9</td>\n",
       "      <td>5</td>\n",
       "      <td>10</td>\n",
       "      <td>Tokyo</td>\n",
       "    </tr>\n",
       "    <tr>\n",
       "      <th>7</th>\n",
       "      <td>Germany</td>\n",
       "      <td>7.2</td>\n",
       "      <td>3</td>\n",
       "      <td>13</td>\n",
       "      <td>Berlin</td>\n",
       "    </tr>\n",
       "    <tr>\n",
       "      <th>8</th>\n",
       "      <td>India</td>\n",
       "      <td>7.6</td>\n",
       "      <td>3</td>\n",
       "      <td>26</td>\n",
       "      <td>Agra</td>\n",
       "    </tr>\n",
       "    <tr>\n",
       "      <th>11</th>\n",
       "      <td>Australia</td>\n",
       "      <td>8.1</td>\n",
       "      <td>4</td>\n",
       "      <td>16</td>\n",
       "      <td>Sydney</td>\n",
       "    </tr>\n",
       "    <tr>\n",
       "      <th>12</th>\n",
       "      <td>Iceland</td>\n",
       "      <td>8.0</td>\n",
       "      <td>4</td>\n",
       "      <td>12</td>\n",
       "      <td>Reyjavik</td>\n",
       "    </tr>\n",
       "    <tr>\n",
       "      <th>14</th>\n",
       "      <td>Brazil</td>\n",
       "      <td>7.9</td>\n",
       "      <td>4</td>\n",
       "      <td>11</td>\n",
       "      <td>Rio De Janeiro</td>\n",
       "    </tr>\n",
       "  </tbody>\n",
       "</table>\n",
       "</div>"
      ]
     },
     "metadata": {},
     "execution_count": 28
    }
   ],
   "metadata": {}
  },
  {
   "cell_type": "code",
   "execution_count": 26,
   "source": [
    "# 7.Filter the data by score above 8.  \r\n",
    "myfilter = (data[\"Feedback Score\"] > 8) \r\n",
    "data[myfilter]"
   ],
   "outputs": [
    {
     "output_type": "execute_result",
     "data": {
      "text/plain": [
       "   Destination  Feedback Score  Average Hotel Rating  No. of All Incl Hotels  \\\n",
       "0      England             8.2                     4                       8   \n",
       "3       France             8.9                     4                      17   \n",
       "4        Spain             8.4                     3                      20   \n",
       "6        Japan             8.9                     5                      10   \n",
       "10     Jamaica             8.2                     4                       5   \n",
       "11   Australia             8.1                     4                      16   \n",
       "\n",
       "   Most Visited City  \n",
       "0             London  \n",
       "3              Paris  \n",
       "4          Barcelona  \n",
       "6              Tokyo  \n",
       "10          Kingston  \n",
       "11            Sydney  "
      ],
      "text/html": [
       "<div>\n",
       "<style scoped>\n",
       "    .dataframe tbody tr th:only-of-type {\n",
       "        vertical-align: middle;\n",
       "    }\n",
       "\n",
       "    .dataframe tbody tr th {\n",
       "        vertical-align: top;\n",
       "    }\n",
       "\n",
       "    .dataframe thead th {\n",
       "        text-align: right;\n",
       "    }\n",
       "</style>\n",
       "<table border=\"1\" class=\"dataframe\">\n",
       "  <thead>\n",
       "    <tr style=\"text-align: right;\">\n",
       "      <th></th>\n",
       "      <th>Destination</th>\n",
       "      <th>Feedback Score</th>\n",
       "      <th>Average Hotel Rating</th>\n",
       "      <th>No. of All Incl Hotels</th>\n",
       "      <th>Most Visited City</th>\n",
       "    </tr>\n",
       "  </thead>\n",
       "  <tbody>\n",
       "    <tr>\n",
       "      <th>0</th>\n",
       "      <td>England</td>\n",
       "      <td>8.2</td>\n",
       "      <td>4</td>\n",
       "      <td>8</td>\n",
       "      <td>London</td>\n",
       "    </tr>\n",
       "    <tr>\n",
       "      <th>3</th>\n",
       "      <td>France</td>\n",
       "      <td>8.9</td>\n",
       "      <td>4</td>\n",
       "      <td>17</td>\n",
       "      <td>Paris</td>\n",
       "    </tr>\n",
       "    <tr>\n",
       "      <th>4</th>\n",
       "      <td>Spain</td>\n",
       "      <td>8.4</td>\n",
       "      <td>3</td>\n",
       "      <td>20</td>\n",
       "      <td>Barcelona</td>\n",
       "    </tr>\n",
       "    <tr>\n",
       "      <th>6</th>\n",
       "      <td>Japan</td>\n",
       "      <td>8.9</td>\n",
       "      <td>5</td>\n",
       "      <td>10</td>\n",
       "      <td>Tokyo</td>\n",
       "    </tr>\n",
       "    <tr>\n",
       "      <th>10</th>\n",
       "      <td>Jamaica</td>\n",
       "      <td>8.2</td>\n",
       "      <td>4</td>\n",
       "      <td>5</td>\n",
       "      <td>Kingston</td>\n",
       "    </tr>\n",
       "    <tr>\n",
       "      <th>11</th>\n",
       "      <td>Australia</td>\n",
       "      <td>8.1</td>\n",
       "      <td>4</td>\n",
       "      <td>16</td>\n",
       "      <td>Sydney</td>\n",
       "    </tr>\n",
       "  </tbody>\n",
       "</table>\n",
       "</div>"
      ]
     },
     "metadata": {},
     "execution_count": 26
    }
   ],
   "metadata": {}
  },
  {
   "cell_type": "code",
   "execution_count": 39,
   "source": [
    "# 8.Filter the data score below 2 ( I need to know if these destinations should be removed or there is a problem)\r\n",
    "myfilter = (data[\"Feedback Score\"] < 2) \r\n",
    "data[myfilter]"
   ],
   "outputs": [
    {
     "output_type": "execute_result",
     "data": {
      "text/plain": [
       "   Destination  Feedback Score  Average Hotel Rating  No. of All Incl Hotels  \\\n",
       "7      Germany             1.4                     3                      13   \n",
       "12     Iceland             1.5                     4                      12   \n",
       "\n",
       "   Most Visited City  \n",
       "7             Berlin  \n",
       "12          Reyjavik  "
      ],
      "text/html": [
       "<div>\n",
       "<style scoped>\n",
       "    .dataframe tbody tr th:only-of-type {\n",
       "        vertical-align: middle;\n",
       "    }\n",
       "\n",
       "    .dataframe tbody tr th {\n",
       "        vertical-align: top;\n",
       "    }\n",
       "\n",
       "    .dataframe thead th {\n",
       "        text-align: right;\n",
       "    }\n",
       "</style>\n",
       "<table border=\"1\" class=\"dataframe\">\n",
       "  <thead>\n",
       "    <tr style=\"text-align: right;\">\n",
       "      <th></th>\n",
       "      <th>Destination</th>\n",
       "      <th>Feedback Score</th>\n",
       "      <th>Average Hotel Rating</th>\n",
       "      <th>No. of All Incl Hotels</th>\n",
       "      <th>Most Visited City</th>\n",
       "    </tr>\n",
       "  </thead>\n",
       "  <tbody>\n",
       "    <tr>\n",
       "      <th>7</th>\n",
       "      <td>Germany</td>\n",
       "      <td>1.4</td>\n",
       "      <td>3</td>\n",
       "      <td>13</td>\n",
       "      <td>Berlin</td>\n",
       "    </tr>\n",
       "    <tr>\n",
       "      <th>12</th>\n",
       "      <td>Iceland</td>\n",
       "      <td>1.5</td>\n",
       "      <td>4</td>\n",
       "      <td>12</td>\n",
       "      <td>Reyjavik</td>\n",
       "    </tr>\n",
       "  </tbody>\n",
       "</table>\n",
       "</div>"
      ]
     },
     "metadata": {},
     "execution_count": 39
    }
   ],
   "metadata": {}
  }
 ],
 "metadata": {
  "orig_nbformat": 4,
  "language_info": {
   "name": "python",
   "version": "3.9.6",
   "mimetype": "text/x-python",
   "codemirror_mode": {
    "name": "ipython",
    "version": 3
   },
   "pygments_lexer": "ipython3",
   "nbconvert_exporter": "python",
   "file_extension": ".py"
  },
  "kernelspec": {
   "name": "python3",
   "display_name": "Python 3.9.6 64-bit"
  },
  "interpreter": {
   "hash": "f6f68cb68669a2839a53673cb9fb1cf09139f8a8b4f09926ae9a322275eb0466"
  }
 },
 "nbformat": 4,
 "nbformat_minor": 2
}