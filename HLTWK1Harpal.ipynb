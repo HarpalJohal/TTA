{
 "metadata": {
  "language_info": {
   "codemirror_mode": {
    "name": "ipython",
    "version": 3
   },
   "file_extension": ".py",
   "mimetype": "text/x-python",
   "name": "python",
   "nbconvert_exporter": "python",
   "pygments_lexer": "ipython3",
   "version": "3.9.6"
  },
  "orig_nbformat": 4,
  "kernelspec": {
   "name": "python3",
   "display_name": "Python 3.9.6 64-bit"
  },
  "interpreter": {
   "hash": "f6f68cb68669a2839a53673cb9fb1cf09139f8a8b4f09926ae9a322275eb0466"
  }
 },
 "nbformat": 4,
 "nbformat_minor": 2,
 "cells": [
  {
   "cell_type": "code",
   "execution_count": 13,
   "metadata": {},
   "outputs": [
    {
     "output_type": "stream",
     "name": "stdout",
     "text": [
      "Well, Harpal. I am thinking of a number between 1 and 10.\n",
      "Wrong, better luck next time\n"
     ]
    }
   ],
   "source": [
    "#-------------------------------------------------------------------------------\n",
    "# Name:        HLT Week 1  \n",
    "# Author:      harpal johal\n",
    "# Created:     11/07/2021\n",
    "#\n",
    "# Task 1 :     Guess a random number\n",
    "#-------------------------------------------------------------------------------\n",
    "import random\n",
    "myName = input(\"Hello! What is your name?\")\n",
    "number = random.randint(1, 10)\n",
    "print(\"Well, \" + myName + \". I am thinking of a number between 1 and 10.\")\n",
    "guess = int(input(\"Take a guess:\") )\n",
    "if guess == number:\n",
    "    print(\"Good job, \" + myName + \"! You guessed my number.\")\n",
    "else:\n",
    "    print(\"Wrong, better luck next time\")\n"
   ]
  },
  {
   "cell_type": "code",
   "execution_count": 45,
   "metadata": {},
   "outputs": [
    {
     "output_type": "stream",
     "name": "stdout",
     "text": [
      "What is hardware?  The part of a computer that you can kick!\n"
     ]
    }
   ],
   "source": [
    "#-------------------------------------------------------------------------------\n",
    "# Name:         HLT Week 1 \n",
    "# Author:       harpal johal\n",
    "# Created:      11/07/2021\n",
    "#\n",
    "# Task 2 :      Write a program that asks a user for their favourite number between 1 \n",
    "#               and 100 and then tells them a joke based on the number. You should \n",
    "#               use a minimum of 3 jokes.\n",
    "# \n",
    "# -------------------------------------------------------------------------------\n",
    "myFavNum = input(\"Hello! What is your favorite number between 1 and 100 ?\")\n",
    "myFavNum = int(myFavNum)\n",
    "if myFavNum <= 33:\n",
    "    print(\"Why did the programmer get stuck in the shower?  Because the instructions said... Lather, Rinse, Repeat\")\n",
    "elif myFavNum <= 66:\n",
    "    print(\"What is hardware?  The part of a computer that you can kick!\")\n",
    "else:\n",
    "    print(\"What do you call a programmer from Finland?  Nerdic!\")\n"
   ]
  },
  {
   "cell_type": "code",
   "execution_count": 46,
   "metadata": {},
   "outputs": [
    {
     "output_type": "stream",
     "name": "stdout",
     "text": [
      "Your favourite meal is Cheesey Fries, Double Cheeseburger, Apple Pie with Custard with a glass of Strawberry Milkshake!\n"
     ]
    }
   ],
   "source": [
    "#-------------------------------------------------------------------------------\n",
    "# Name:         HLT Week 1\n",
    "# Author:       harpal johal\n",
    "# Created:      12/07/2021\n",
    "#\n",
    "# Task 3 :      Write a program that allows user to enter their favourite starter, main \n",
    "#               course, dessert and drink. Concatenate these and output a message \n",
    "#               which says – “Your favourite meal is ………with a glass of….”\n",
    "# \n",
    "# -------------------------------------------------------------------------------\n",
    "MyFavStarter = input(\"What is your favourite Starter? \")\n",
    "MyFavMain = input(\"What is your favourite Main Course? \")\n",
    "MyFavDessert = input(\"What is your favourite Dessert?\")\n",
    "MyFavDrink = input(\"What is your favourite Drink?\") \n",
    "# display favourite meal\n",
    "print(\"Your favourite meal is\", MyFavStarter + \",\", MyFavMain + \",\", MyFavDessert + \" with a glass of\", MyFavDrink + \"!\")\n",
    "\n",
    "\n"
   ]
  },
  {
   "cell_type": "code",
   "execution_count": 62,
   "metadata": {},
   "outputs": [
    {
     "output_type": "stream",
     "name": "stdout",
     "text": [
      "The value of your motorbike is £ 2000 in Year 1\nThe value of your motorbike is £ 1800.0 in Year 2\nThe value of your motorbike is £ 1620.0 in Year 3\nThe value of your motorbike is £ 1458.0 in Year 4\nThe value of your motorbike is £ 1312.2 in Year 5\nThe value of your motorbike is £ 1180.98 in Year 6\nThe value of your motorbike is £ 1062.882 in Year 7\n"
     ]
    }
   ],
   "source": [
    "#-------------------------------------------------------------------------------\n",
    "# Name:         HLT Week 1\n",
    "# Author:       harpal johal\n",
    "# Created:      12/07/2021\n",
    "#\n",
    "# Task 4 :      A motorbike costs £2000 and loses 10% of its value every year. Using a \n",
    "#               loop, print the value of the bike every following year until it falls \n",
    "#               below £1000. \n",
    "# \n",
    "# -------------------------------------------------------------------------------\n",
    "MotorbikeCost = input(\"How much did your motorbike cost?\")\n",
    "BikeValue = int(MotorbikeCost)\n",
    "AnnualLoss = input(\"what % is its annual loss?\")\n",
    "AnnualLoss = int(AnnualLoss)\n",
    "Year = 1\n",
    "\n",
    "while BikeValue > 1000:\n",
    "  print(\"The value of your motorbike is £\", BikeValue, \"in Year\", Year)\n",
    "  BikeValue = BikeValue - (BikeValue * AnnualLoss/100)\n",
    "  Year += 1\n",
    "\n"
   ]
  },
  {
   "cell_type": "code",
   "execution_count": 87,
   "metadata": {},
   "outputs": [
    {
     "output_type": "stream",
     "name": "stdout",
     "text": [
      "\n",
      "  Enter A to Add\n",
      "  Enter B to Subtract\n",
      "  Enter C to Divide\n",
      "  Enter D to Multiply\n",
      "  Enter E to Square\n",
      "\n",
      "  Enter X to Exit\n",
      "  \n",
      "5 + 2 = 7\n",
      "\n",
      "  Enter A to Add\n",
      "  Enter B to Subtract\n",
      "  Enter C to Divide\n",
      "  Enter D to Multiply\n",
      "  Enter E to Square\n",
      "\n",
      "  Enter X to Exit\n",
      "  \n",
      "Invalid Option Selected!\n",
      "\n",
      "  Enter A to Add\n",
      "  Enter B to Subtract\n",
      "  Enter C to Divide\n",
      "  Enter D to Multiply\n",
      "  Enter E to Square\n",
      "\n",
      "  Enter X to Exit\n",
      "  \n",
      "5 - 2 = 3\n",
      "\n",
      "  Enter A to Add\n",
      "  Enter B to Subtract\n",
      "  Enter C to Divide\n",
      "  Enter D to Multiply\n",
      "  Enter E to Square\n",
      "\n",
      "  Enter X to Exit\n",
      "  \n",
      "5 / 2 = 2.5\n",
      "\n",
      "  Enter A to Add\n",
      "  Enter B to Subtract\n",
      "  Enter C to Divide\n",
      "  Enter D to Multiply\n",
      "  Enter E to Square\n",
      "\n",
      "  Enter X to Exit\n",
      "  \n",
      "5 * 2 = 10\n",
      "\n",
      "  Enter A to Add\n",
      "  Enter B to Subtract\n",
      "  Enter C to Divide\n",
      "  Enter D to Multiply\n",
      "  Enter E to Square\n",
      "\n",
      "  Enter X to Exit\n",
      "  \n",
      "5 to the power of 2 = 25\n",
      "\n",
      "  Enter A to Add\n",
      "  Enter B to Subtract\n",
      "  Enter C to Divide\n",
      "  Enter D to Multiply\n",
      "  Enter E to Square\n",
      "\n",
      "  Enter X to Exit\n",
      "  \n",
      "Invalid Option Selected!\n",
      "\n",
      "  Enter A to Add\n",
      "  Enter B to Subtract\n",
      "  Enter C to Divide\n",
      "  Enter D to Multiply\n",
      "  Enter E to Square\n",
      "\n",
      "  Enter X to Exit\n",
      "  \n"
     ]
    }
   ],
   "source": [
    "#-------------------------------------------------------------------------------\n",
    "# Name:         HLT Week 1\n",
    "# Author:       harpal johal\n",
    "# Created:      12/07/2021\n",
    "#\n",
    "# Task 5 :      Write a program which will ask for two numbers from a user. Then \n",
    "#               offer a menu to the user giving them a choice of operator:\n",
    "#               e.g. – Enter “a” if you want to add\n",
    "#               “b” if you want to subtract\n",
    "#               Include +, -, /, *, ** square (to the power of). Once the user has \n",
    "#               selected which operator they wish to use, perform the calculation.\n",
    "# \n",
    "# -------------------------------------------------------------------------------\n",
    "#Select Numbers\n",
    "NumberOne = input(\"What is your first number?\")\n",
    "NumberOne = int(NumberOne)\n",
    "NumberTwo = input(\"What is your second number?\")\n",
    "NumberTwo = int(NumberTwo)\n",
    "UserChoice = True\n",
    "\n",
    "while UserChoice:\n",
    "\n",
    "# Display Menu\n",
    "  print (\"\"\"\n",
    "  Enter A to Add\n",
    "  Enter B to Subtract\n",
    "  Enter C to Divide\n",
    "  Enter D to Multiply\n",
    "  Enter E to Square\n",
    "\n",
    "  Enter X to Exit\n",
    "  \"\"\")\n",
    "\n",
    "#Select User Request\n",
    "\n",
    "  UserChoice = input(\"Please select option for the mathematical operation you wish to perform: \")\n",
    "\n",
    "#Perform option selected\n",
    "  if UserChoice == 'A':\n",
    "    print(NumberOne, \"+\", NumberTwo, \"=\", NumberOne + NumberTwo)\n",
    "  elif UserChoice == 'B':\n",
    "    print(NumberOne, \"-\", NumberTwo, \"=\", NumberOne - NumberTwo)\n",
    "  elif UserChoice == 'C':\n",
    "    print(NumberOne, \"/\", NumberTwo, \"=\", NumberOne / NumberTwo)\n",
    "  elif UserChoice == 'D':\n",
    "    print(NumberOne, \"*\", NumberTwo, \"=\", NumberOne * NumberTwo)\n",
    "  elif UserChoice == 'E':\n",
    "    print(NumberOne, \"to the power of\", NumberTwo, \"=\", NumberOne ** NumberTwo)\n",
    "  elif UserChoice == 'X':\n",
    "    break\n",
    "  else:\n",
    "    print (\"Invalid Option Selected!\")"
   ]
  },
  {
   "cell_type": "code",
   "execution_count": null,
   "metadata": {},
   "outputs": [],
   "source": []
  }
 ]
}